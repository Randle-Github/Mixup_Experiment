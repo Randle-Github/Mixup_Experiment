{
 "cells": [
  {
   "cell_type": "code",
   "execution_count": 1,
   "id": "emerging-corpus",
   "metadata": {},
   "outputs": [],
   "source": [
    "h = [1, 2, 3,4]\n",
    "o = [3, 4, 5, 6]\n",
    "inter = [h[i] - o[i] for i in range(4)]"
   ]
  },
  {
   "cell_type": "code",
   "execution_count": 2,
   "id": "tracked-grocery",
   "metadata": {},
   "outputs": [
    {
     "data": {
      "text/plain": [
       "[1, 2, 3, 4, 3, 4, 5, 6, -2, -2, -2, -2]"
      ]
     },
     "execution_count": 2,
     "metadata": {},
     "output_type": "execute_result"
    }
   ],
   "source": [
    "h+o+inter"
   ]
  }
 ],
 "metadata": {
  "kernelspec": {
   "display_name": "Python 3",
   "language": "python",
   "name": "python3"
  },
  "language_info": {
   "codemirror_mode": {
    "name": "ipython",
    "version": 3
   },
   "file_extension": ".py",
   "mimetype": "text/x-python",
   "name": "python",
   "nbconvert_exporter": "python",
   "pygments_lexer": "ipython3",
   "version": "3.7.7"
  }
 },
 "nbformat": 4,
 "nbformat_minor": 5
}
